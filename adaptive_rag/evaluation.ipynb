{
 "cells": [
  {
   "cell_type": "code",
   "execution_count": 1,
   "metadata": {},
   "outputs": [],
   "source": [
    "import pandas as pd\n",
    "import numpy as np"
   ]
  },
  {
   "cell_type": "code",
   "execution_count": 2,
   "metadata": {},
   "outputs": [],
   "source": [
    "df = pd.read_csv(\"evaluation_results.csv\")"
   ]
  },
  {
   "cell_type": "code",
   "execution_count": 3,
   "metadata": {},
   "outputs": [
    {
     "data": {
      "text/html": [
       "<div>\n",
       "<style scoped>\n",
       "    .dataframe tbody tr th:only-of-type {\n",
       "        vertical-align: middle;\n",
       "    }\n",
       "\n",
       "    .dataframe tbody tr th {\n",
       "        vertical-align: top;\n",
       "    }\n",
       "\n",
       "    .dataframe thead th {\n",
       "        text-align: right;\n",
       "    }\n",
       "</style>\n",
       "<table border=\"1\" class=\"dataframe\">\n",
       "  <thead>\n",
       "    <tr style=\"text-align: right;\">\n",
       "      <th></th>\n",
       "      <th>book</th>\n",
       "      <th>ground_truth</th>\n",
       "      <th>model_output</th>\n",
       "      <th>verse_gt</th>\n",
       "      <th>predicted_verse</th>\n",
       "      <th>chapter_gt</th>\n",
       "      <th>predicted_chapter</th>\n",
       "      <th>rouge_l</th>\n",
       "      <th>bert_f1</th>\n",
       "      <th>cos_sim</th>\n",
       "      <th>bleu</th>\n",
       "    </tr>\n",
       "  </thead>\n",
       "  <tbody>\n",
       "    <tr>\n",
       "      <th>0</th>\n",
       "      <td>Bhagwad Gita</td>\n",
       "      <td>According to Bhagavad Gita Chapter 3, Verse 40...</td>\n",
       "      <td>{'generation': \"According to Bhagavad Gita Cha...</td>\n",
       "      <td>40</td>\n",
       "      <td>40</td>\n",
       "      <td>3</td>\n",
       "      <td>3</td>\n",
       "      <td>0.356589</td>\n",
       "      <td>0.792588</td>\n",
       "      <td>0.859682</td>\n",
       "      <td>0.092426</td>\n",
       "    </tr>\n",
       "    <tr>\n",
       "      <th>1</th>\n",
       "      <td>Bhagwad Gita</td>\n",
       "      <td>According to Bhagavad Gita Chapter 13, Verse 1...</td>\n",
       "      <td>{'generation': 'According to Bhagavad Gita Cha...</td>\n",
       "      <td>12</td>\n",
       "      <td>12</td>\n",
       "      <td>13</td>\n",
       "      <td>13</td>\n",
       "      <td>0.462687</td>\n",
       "      <td>0.942104</td>\n",
       "      <td>0.865174</td>\n",
       "      <td>0.160202</td>\n",
       "    </tr>\n",
       "    <tr>\n",
       "      <th>2</th>\n",
       "      <td>Bhagwad Gita</td>\n",
       "      <td>According to the Bhagavad Gita, Chapter 10, Ve...</td>\n",
       "      <td>{'generation': 'According to the Bhagavad Gita...</td>\n",
       "      <td>25</td>\n",
       "      <td>25</td>\n",
       "      <td>10</td>\n",
       "      <td>10</td>\n",
       "      <td>0.347107</td>\n",
       "      <td>0.931095</td>\n",
       "      <td>0.781926</td>\n",
       "      <td>0.075290</td>\n",
       "    </tr>\n",
       "    <tr>\n",
       "      <th>3</th>\n",
       "      <td>Bhagwad Gita</td>\n",
       "      <td>According to Bhagavad Gita, Chapter 3, Verse 3...</td>\n",
       "      <td>{'generation': 'According to Bhagavad Gita, Ch...</td>\n",
       "      <td>37</td>\n",
       "      <td>37</td>\n",
       "      <td>3</td>\n",
       "      <td>3</td>\n",
       "      <td>0.348387</td>\n",
       "      <td>0.791400</td>\n",
       "      <td>0.830655</td>\n",
       "      <td>0.114468</td>\n",
       "    </tr>\n",
       "    <tr>\n",
       "      <th>4</th>\n",
       "      <td>Bhagwad Gita</td>\n",
       "      <td>According to Bhagavad Gita Chapter 8, Verse 12...</td>\n",
       "      <td>{'generation': 'To practice Yoga and concentra...</td>\n",
       "      <td>12</td>\n",
       "      <td>12</td>\n",
       "      <td>8</td>\n",
       "      <td>8</td>\n",
       "      <td>0.413333</td>\n",
       "      <td>0.920406</td>\n",
       "      <td>0.786119</td>\n",
       "      <td>0.182142</td>\n",
       "    </tr>\n",
       "    <tr>\n",
       "      <th>5</th>\n",
       "      <td>Bhagwad Gita</td>\n",
       "      <td>According to Bhagavad Gita, Chapter 5, Verse 9...</td>\n",
       "      <td>{'generation': 'According to Bhagavad Gita, Ch...</td>\n",
       "      <td>9</td>\n",
       "      <td>9</td>\n",
       "      <td>5</td>\n",
       "      <td>5</td>\n",
       "      <td>0.410256</td>\n",
       "      <td>0.927153</td>\n",
       "      <td>0.854317</td>\n",
       "      <td>0.109657</td>\n",
       "    </tr>\n",
       "    <tr>\n",
       "      <th>6</th>\n",
       "      <td>Bhagwad Gita</td>\n",
       "      <td>Based on Bhagavad Gita Chapter 6, Verse 2, it ...</td>\n",
       "      <td>{'generation': \"The difference between the pat...</td>\n",
       "      <td>2</td>\n",
       "      <td>2</td>\n",
       "      <td>6</td>\n",
       "      <td>6</td>\n",
       "      <td>0.457143</td>\n",
       "      <td>0.923118</td>\n",
       "      <td>0.828202</td>\n",
       "      <td>0.213342</td>\n",
       "    </tr>\n",
       "    <tr>\n",
       "      <th>7</th>\n",
       "      <td>Bhagwad Gita</td>\n",
       "      <td>According to Bhagavad Gita, Chapter 7, Verse 1...</td>\n",
       "      <td>{'generation': 'According to the Bhagavad Gita...</td>\n",
       "      <td>10</td>\n",
       "      <td>10</td>\n",
       "      <td>7</td>\n",
       "      <td>7</td>\n",
       "      <td>0.600000</td>\n",
       "      <td>0.954208</td>\n",
       "      <td>0.879175</td>\n",
       "      <td>0.333303</td>\n",
       "    </tr>\n",
       "    <tr>\n",
       "      <th>8</th>\n",
       "      <td>Bhagwad Gita</td>\n",
       "      <td>According to Bhagavad Gita Chapter 7, Verse 21...</td>\n",
       "      <td>{'generation': \"According to Bhagavad Gita Cha...</td>\n",
       "      <td>21</td>\n",
       "      <td>21</td>\n",
       "      <td>7</td>\n",
       "      <td>7</td>\n",
       "      <td>0.489209</td>\n",
       "      <td>0.934310</td>\n",
       "      <td>0.757006</td>\n",
       "      <td>0.180288</td>\n",
       "    </tr>\n",
       "    <tr>\n",
       "      <th>9</th>\n",
       "      <td>Bhagwad Gita</td>\n",
       "      <td>According to Bhagavad Gita Chapter 9, Verse 19...</td>\n",
       "      <td>{'generation': 'The speaker, the Supreme Being...</td>\n",
       "      <td>19</td>\n",
       "      <td>19</td>\n",
       "      <td>9</td>\n",
       "      <td>9</td>\n",
       "      <td>0.438596</td>\n",
       "      <td>0.934182</td>\n",
       "      <td>0.834092</td>\n",
       "      <td>0.195495</td>\n",
       "    </tr>\n",
       "    <tr>\n",
       "      <th>10</th>\n",
       "      <td>Patanjali Yoga Sutras</td>\n",
       "      <td>According to Patanjali Yoga Sutras, Chapter 3,...</td>\n",
       "      <td>{'generation': 'According to Patanjali Yoga Su...</td>\n",
       "      <td>33</td>\n",
       "      <td>33</td>\n",
       "      <td>3</td>\n",
       "      <td>3</td>\n",
       "      <td>0.475248</td>\n",
       "      <td>0.931752</td>\n",
       "      <td>0.874396</td>\n",
       "      <td>0.130196</td>\n",
       "    </tr>\n",
       "    <tr>\n",
       "      <th>11</th>\n",
       "      <td>Patanjali Yoga Sutras</td>\n",
       "      <td>Based on Chapter 1, Verse 17 of the Patanjali ...</td>\n",
       "      <td>{'generation': 'The levels of meditative absor...</td>\n",
       "      <td>17</td>\n",
       "      <td>17</td>\n",
       "      <td>1</td>\n",
       "      <td>1</td>\n",
       "      <td>0.532374</td>\n",
       "      <td>0.936144</td>\n",
       "      <td>0.877476</td>\n",
       "      <td>0.206794</td>\n",
       "    </tr>\n",
       "    <tr>\n",
       "      <th>12</th>\n",
       "      <td>Patanjali Yoga Sutras</td>\n",
       "      <td>According to Patanjali Yoga Sutras, chapter 3,...</td>\n",
       "      <td>{'generation': 'According to Patanjali Yoga Su...</td>\n",
       "      <td>50</td>\n",
       "      <td>50</td>\n",
       "      <td>3</td>\n",
       "      <td>3</td>\n",
       "      <td>0.362205</td>\n",
       "      <td>0.905582</td>\n",
       "      <td>0.736664</td>\n",
       "      <td>0.054264</td>\n",
       "    </tr>\n",
       "    <tr>\n",
       "      <th>13</th>\n",
       "      <td>Patanjali Yoga Sutras</td>\n",
       "      <td>Based on Patanjali Yoga Sutras, Chapter 2, Ver...</td>\n",
       "      <td>{'generation': 'A psychophysical posture quali...</td>\n",
       "      <td>46</td>\n",
       "      <td>46</td>\n",
       "      <td>2</td>\n",
       "      <td>2</td>\n",
       "      <td>0.616352</td>\n",
       "      <td>0.919110</td>\n",
       "      <td>0.906171</td>\n",
       "      <td>0.345353</td>\n",
       "    </tr>\n",
       "    <tr>\n",
       "      <th>14</th>\n",
       "      <td>Patanjali Yoga Sutras</td>\n",
       "      <td>Based on Chapter 2, Verse 18 of the Patanjali ...</td>\n",
       "      <td>{'generation': 'The characteristics of Drishya...</td>\n",
       "      <td>18</td>\n",
       "      <td>18</td>\n",
       "      <td>2</td>\n",
       "      <td>2</td>\n",
       "      <td>0.571429</td>\n",
       "      <td>0.943018</td>\n",
       "      <td>0.912867</td>\n",
       "      <td>0.279172</td>\n",
       "    </tr>\n",
       "    <tr>\n",
       "      <th>15</th>\n",
       "      <td>Patanjali Yoga Sutras</td>\n",
       "      <td>According to Chapter 3, Verse 48, yes, through...</td>\n",
       "      <td>{'generation': 'According to Chapter 3, Verse ...</td>\n",
       "      <td>48</td>\n",
       "      <td>48</td>\n",
       "      <td>3</td>\n",
       "      <td>3</td>\n",
       "      <td>0.423729</td>\n",
       "      <td>0.903722</td>\n",
       "      <td>0.784350</td>\n",
       "      <td>0.113831</td>\n",
       "    </tr>\n",
       "    <tr>\n",
       "      <th>16</th>\n",
       "      <td>Patanjali Yoga Sutras</td>\n",
       "      <td>Based on Chapter 2, Verse 5 of the Patanjali Y...</td>\n",
       "      <td>{'generation': 'Ignorance (avidyā) is a state ...</td>\n",
       "      <td>5</td>\n",
       "      <td>5</td>\n",
       "      <td>2</td>\n",
       "      <td>2</td>\n",
       "      <td>0.273381</td>\n",
       "      <td>0.816388</td>\n",
       "      <td>0.845836</td>\n",
       "      <td>0.048869</td>\n",
       "    </tr>\n",
       "    <tr>\n",
       "      <th>17</th>\n",
       "      <td>Patanjali Yoga Sutras</td>\n",
       "      <td>Based on Chapter 1, Verse 16, the attribute of...</td>\n",
       "      <td>{'generation': 'The attribute of an elevated l...</td>\n",
       "      <td>16</td>\n",
       "      <td>16</td>\n",
       "      <td>1</td>\n",
       "      <td>1</td>\n",
       "      <td>0.527607</td>\n",
       "      <td>0.928330</td>\n",
       "      <td>0.859765</td>\n",
       "      <td>0.270752</td>\n",
       "    </tr>\n",
       "    <tr>\n",
       "      <th>18</th>\n",
       "      <td>Patanjali Yoga Sutras</td>\n",
       "      <td>Based on Chapter 3, Verse 7 of the Patanjali Y...</td>\n",
       "      <td>{'generation': 'The subtle paths of Yoga are c...</td>\n",
       "      <td>7</td>\n",
       "      <td>29</td>\n",
       "      <td>3</td>\n",
       "      <td>2</td>\n",
       "      <td>0.244275</td>\n",
       "      <td>0.844992</td>\n",
       "      <td>0.902540</td>\n",
       "      <td>0.143429</td>\n",
       "    </tr>\n",
       "    <tr>\n",
       "      <th>19</th>\n",
       "      <td>Patanjali Yoga Sutras</td>\n",
       "      <td>According to Chapter 3, Verse 6 of the Patanja...</td>\n",
       "      <td>{'generation': 'Practicing Yoga sequentially i...</td>\n",
       "      <td>6</td>\n",
       "      <td>6</td>\n",
       "      <td>3</td>\n",
       "      <td>3</td>\n",
       "      <td>0.437956</td>\n",
       "      <td>0.893331</td>\n",
       "      <td>0.735839</td>\n",
       "      <td>0.159894</td>\n",
       "    </tr>\n",
       "  </tbody>\n",
       "</table>\n",
       "</div>"
      ],
      "text/plain": [
       "                     book                                       ground_truth  \\\n",
       "0            Bhagwad Gita  According to Bhagavad Gita Chapter 3, Verse 40...   \n",
       "1            Bhagwad Gita  According to Bhagavad Gita Chapter 13, Verse 1...   \n",
       "2            Bhagwad Gita  According to the Bhagavad Gita, Chapter 10, Ve...   \n",
       "3            Bhagwad Gita  According to Bhagavad Gita, Chapter 3, Verse 3...   \n",
       "4            Bhagwad Gita  According to Bhagavad Gita Chapter 8, Verse 12...   \n",
       "5            Bhagwad Gita  According to Bhagavad Gita, Chapter 5, Verse 9...   \n",
       "6            Bhagwad Gita  Based on Bhagavad Gita Chapter 6, Verse 2, it ...   \n",
       "7            Bhagwad Gita  According to Bhagavad Gita, Chapter 7, Verse 1...   \n",
       "8            Bhagwad Gita  According to Bhagavad Gita Chapter 7, Verse 21...   \n",
       "9            Bhagwad Gita  According to Bhagavad Gita Chapter 9, Verse 19...   \n",
       "10  Patanjali Yoga Sutras  According to Patanjali Yoga Sutras, Chapter 3,...   \n",
       "11  Patanjali Yoga Sutras  Based on Chapter 1, Verse 17 of the Patanjali ...   \n",
       "12  Patanjali Yoga Sutras  According to Patanjali Yoga Sutras, chapter 3,...   \n",
       "13  Patanjali Yoga Sutras  Based on Patanjali Yoga Sutras, Chapter 2, Ver...   \n",
       "14  Patanjali Yoga Sutras  Based on Chapter 2, Verse 18 of the Patanjali ...   \n",
       "15  Patanjali Yoga Sutras  According to Chapter 3, Verse 48, yes, through...   \n",
       "16  Patanjali Yoga Sutras  Based on Chapter 2, Verse 5 of the Patanjali Y...   \n",
       "17  Patanjali Yoga Sutras  Based on Chapter 1, Verse 16, the attribute of...   \n",
       "18  Patanjali Yoga Sutras  Based on Chapter 3, Verse 7 of the Patanjali Y...   \n",
       "19  Patanjali Yoga Sutras  According to Chapter 3, Verse 6 of the Patanja...   \n",
       "\n",
       "                                         model_output  verse_gt  \\\n",
       "0   {'generation': \"According to Bhagavad Gita Cha...        40   \n",
       "1   {'generation': 'According to Bhagavad Gita Cha...        12   \n",
       "2   {'generation': 'According to the Bhagavad Gita...        25   \n",
       "3   {'generation': 'According to Bhagavad Gita, Ch...        37   \n",
       "4   {'generation': 'To practice Yoga and concentra...        12   \n",
       "5   {'generation': 'According to Bhagavad Gita, Ch...         9   \n",
       "6   {'generation': \"The difference between the pat...         2   \n",
       "7   {'generation': 'According to the Bhagavad Gita...        10   \n",
       "8   {'generation': \"According to Bhagavad Gita Cha...        21   \n",
       "9   {'generation': 'The speaker, the Supreme Being...        19   \n",
       "10  {'generation': 'According to Patanjali Yoga Su...        33   \n",
       "11  {'generation': 'The levels of meditative absor...        17   \n",
       "12  {'generation': 'According to Patanjali Yoga Su...        50   \n",
       "13  {'generation': 'A psychophysical posture quali...        46   \n",
       "14  {'generation': 'The characteristics of Drishya...        18   \n",
       "15  {'generation': 'According to Chapter 3, Verse ...        48   \n",
       "16  {'generation': 'Ignorance (avidyā) is a state ...         5   \n",
       "17  {'generation': 'The attribute of an elevated l...        16   \n",
       "18  {'generation': 'The subtle paths of Yoga are c...         7   \n",
       "19  {'generation': 'Practicing Yoga sequentially i...         6   \n",
       "\n",
       "    predicted_verse  chapter_gt  predicted_chapter   rouge_l   bert_f1  \\\n",
       "0                40           3                  3  0.356589  0.792588   \n",
       "1                12          13                 13  0.462687  0.942104   \n",
       "2                25          10                 10  0.347107  0.931095   \n",
       "3                37           3                  3  0.348387  0.791400   \n",
       "4                12           8                  8  0.413333  0.920406   \n",
       "5                 9           5                  5  0.410256  0.927153   \n",
       "6                 2           6                  6  0.457143  0.923118   \n",
       "7                10           7                  7  0.600000  0.954208   \n",
       "8                21           7                  7  0.489209  0.934310   \n",
       "9                19           9                  9  0.438596  0.934182   \n",
       "10               33           3                  3  0.475248  0.931752   \n",
       "11               17           1                  1  0.532374  0.936144   \n",
       "12               50           3                  3  0.362205  0.905582   \n",
       "13               46           2                  2  0.616352  0.919110   \n",
       "14               18           2                  2  0.571429  0.943018   \n",
       "15               48           3                  3  0.423729  0.903722   \n",
       "16                5           2                  2  0.273381  0.816388   \n",
       "17               16           1                  1  0.527607  0.928330   \n",
       "18               29           3                  2  0.244275  0.844992   \n",
       "19                6           3                  3  0.437956  0.893331   \n",
       "\n",
       "     cos_sim      bleu  \n",
       "0   0.859682  0.092426  \n",
       "1   0.865174  0.160202  \n",
       "2   0.781926  0.075290  \n",
       "3   0.830655  0.114468  \n",
       "4   0.786119  0.182142  \n",
       "5   0.854317  0.109657  \n",
       "6   0.828202  0.213342  \n",
       "7   0.879175  0.333303  \n",
       "8   0.757006  0.180288  \n",
       "9   0.834092  0.195495  \n",
       "10  0.874396  0.130196  \n",
       "11  0.877476  0.206794  \n",
       "12  0.736664  0.054264  \n",
       "13  0.906171  0.345353  \n",
       "14  0.912867  0.279172  \n",
       "15  0.784350  0.113831  \n",
       "16  0.845836  0.048869  \n",
       "17  0.859765  0.270752  \n",
       "18  0.902540  0.143429  \n",
       "19  0.735839  0.159894  "
      ]
     },
     "execution_count": 3,
     "metadata": {},
     "output_type": "execute_result"
    }
   ],
   "source": [
    "df"
   ]
  },
  {
   "cell_type": "code",
   "execution_count": 4,
   "metadata": {},
   "outputs": [],
   "source": [
    "df_gita = df[df['book'] == 'Bhagwad Gita']\n",
    "df_patanjali = df[df['book'] == 'Patanjali Yoga Sutras']"
   ]
  },
  {
   "cell_type": "code",
   "execution_count": 6,
   "metadata": {},
   "outputs": [
    {
     "name": "stdout",
     "output_type": "stream",
     "text": [
      "Mean ROUGE-L for Bhagwad Gita:  0.4323307927414133\n"
     ]
    }
   ],
   "source": [
    "mean_rouge = df_gita['rouge_l'].mean()\n",
    "\n",
    "print(\"Mean ROUGE-L for Bhagwad Gita: \", mean_rouge)"
   ]
  },
  {
   "cell_type": "code",
   "execution_count": 7,
   "metadata": {},
   "outputs": [
    {
     "name": "stdout",
     "output_type": "stream",
     "text": [
      "Mean ROUGE-L for Patanjali Yoga Sutras:  0.4464555557671271\n"
     ]
    }
   ],
   "source": [
    "mean_rouge_patanjali = df_patanjali['rouge_l'].mean()\n",
    "\n",
    "print(\"Mean ROUGE-L for Patanjali Yoga Sutras: \", mean_rouge_patanjali)"
   ]
  },
  {
   "cell_type": "code",
   "execution_count": 8,
   "metadata": {},
   "outputs": [
    {
     "name": "stdout",
     "output_type": "stream",
     "text": [
      "Mean BERT-f1 for Bhagwad Gita:  0.905056482553482\n"
     ]
    }
   ],
   "source": [
    "mean_bert = df_gita['bert_f1'].mean()\n",
    "\n",
    "print(\"Mean BERT-f1 for Bhagwad Gita: \", mean_bert)"
   ]
  },
  {
   "cell_type": "code",
   "execution_count": 9,
   "metadata": {},
   "outputs": [
    {
     "name": "stdout",
     "output_type": "stream",
     "text": [
      "Mean BERT-f1 for Patanjali Yoga Sutras:  0.902236819267273\n"
     ]
    }
   ],
   "source": [
    "mean_bert_patanjali = df_patanjali['bert_f1'].mean()\n",
    "\n",
    "print(\"Mean BERT-f1 for Patanjali Yoga Sutras: \", mean_bert_patanjali)"
   ]
  },
  {
   "cell_type": "code",
   "execution_count": 10,
   "metadata": {},
   "outputs": [
    {
     "name": "stdout",
     "output_type": "stream",
     "text": [
      "Mean Cosine for Bhagwad Gita:  0.8276349200000002\n"
     ]
    }
   ],
   "source": [
    "mean_cosine = df_gita['cos_sim'].mean()\n",
    "\n",
    "print(\"Mean Cosine for Bhagwad Gita: \", mean_cosine)"
   ]
  },
  {
   "cell_type": "code",
   "execution_count": 11,
   "metadata": {},
   "outputs": [
    {
     "name": "stdout",
     "output_type": "stream",
     "text": [
      "Mean Cosine for Patanjali Yoga Sutras:  0.8435902219999999\n"
     ]
    }
   ],
   "source": [
    "mean_cosine = df_patanjali['cos_sim'].mean()\n",
    "\n",
    "print(\"Mean Cosine for Patanjali Yoga Sutras: \", mean_cosine)"
   ]
  },
  {
   "cell_type": "code",
   "execution_count": 12,
   "metadata": {},
   "outputs": [
    {
     "name": "stdout",
     "output_type": "stream",
     "text": [
      "Verse accuracy for Bhagwad Gita:  1.0\n"
     ]
    }
   ],
   "source": [
    "verse_accuracy = 0\n",
    "for idx, row in df_gita.iterrows():\n",
    "    original_verse = row['verse_gt']\n",
    "    prediction = row['predicted_verse']\n",
    "    if original_verse == prediction:\n",
    "        verse_accuracy += 1\n",
    "\n",
    "verse_accuracy = verse_accuracy / len(df_gita)\n",
    "print(\"Verse accuracy for Bhagwad Gita: \", verse_accuracy)"
   ]
  },
  {
   "cell_type": "code",
   "execution_count": 14,
   "metadata": {},
   "outputs": [
    {
     "name": "stdout",
     "output_type": "stream",
     "text": [
      "Verse accuracy for Bhagwad Gita:  1.0\n"
     ]
    }
   ],
   "source": [
    "chapter_accuracy = 0\n",
    "for idx, row in df_gita.iterrows():\n",
    "    original_verse = row['chapter_gt']\n",
    "    prediction = row['predicted_chapter']\n",
    "    if original_verse == prediction:\n",
    "        chapter_accuracy += 1\n",
    "\n",
    "chapter_accuracy = chapter_accuracy / len(df_gita)\n",
    "print(\"Verse accuracy for Bhagwad Gita: \", chapter_accuracy)"
   ]
  },
  {
   "cell_type": "code",
   "execution_count": 17,
   "metadata": {},
   "outputs": [
    {
     "name": "stdout",
     "output_type": "stream",
     "text": [
      "Verse accuracy for Patanjali:  0.9\n"
     ]
    }
   ],
   "source": [
    "verse_accuracy = 0\n",
    "for idx, row in df_patanjali.iterrows():\n",
    "    original_chapter = row['verse_gt']\n",
    "    prediction = row['predicted_verse']\n",
    "    if original_chapter == prediction:\n",
    "        verse_accuracy += 1\n",
    "\n",
    "verse_accuracy = verse_accuracy / len(df_patanjali)\n",
    "print(\"Verse accuracy for Patanjali: \", verse_accuracy)"
   ]
  },
  {
   "cell_type": "code",
   "execution_count": 20,
   "metadata": {},
   "outputs": [
    {
     "name": "stdout",
     "output_type": "stream",
     "text": [
      "Chapter accuracy for Patanjali:  0.9\n"
     ]
    }
   ],
   "source": [
    "chapter_accuracy = 0\n",
    "for idx, row in df_patanjali.iterrows():\n",
    "    original_chapter = row['chapter_gt']\n",
    "    prediction = row['predicted_chapter']\n",
    "    if original_chapter == prediction:\n",
    "        chapter_accuracy += 1\n",
    "\n",
    "chapter_accuracy = chapter_accuracy / len(df_patanjali)\n",
    "print(\"Chapter accuracy for Patanjali: \", chapter_accuracy)"
   ]
  }
 ],
 "metadata": {
  "kernelspec": {
   "display_name": "Python 3",
   "language": "python",
   "name": "python3"
  },
  "language_info": {
   "codemirror_mode": {
    "name": "ipython",
    "version": 3
   },
   "file_extension": ".py",
   "mimetype": "text/x-python",
   "name": "python",
   "nbconvert_exporter": "python",
   "pygments_lexer": "ipython3",
   "version": "3.11.4"
  }
 },
 "nbformat": 4,
 "nbformat_minor": 2
}
